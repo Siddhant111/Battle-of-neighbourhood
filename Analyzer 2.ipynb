{
 "cells": [
  {
   "cell_type": "code",
   "execution_count": 1,
   "metadata": {},
   "outputs": [],
   "source": [
    "import pandas as pd\n",
    "import numpy as np\n",
    "import requests"
   ]
  },
  {
   "cell_type": "code",
   "execution_count": 2,
   "metadata": {},
   "outputs": [
    {
     "data": {
      "text/plain": [
       "<Response [200]>"
      ]
     },
     "execution_count": 2,
     "metadata": {},
     "output_type": "execute_result"
    }
   ],
   "source": [
    "url = \"https://en.wikipedia.org/wiki/List_of_postal_codes_of_Canada:_M\"\n",
    "wiki_url = requests.get(url)\n",
    "wiki_url"
   ]
  },
  {
   "cell_type": "code",
   "execution_count": 3,
   "metadata": {},
   "outputs": [
    {
     "data": {
      "text/plain": [
       "[    Postal Code           Borough  \\\n",
       " 0           M1A      Not assigned   \n",
       " 1           M2A      Not assigned   \n",
       " 2           M3A        North York   \n",
       " 3           M4A        North York   \n",
       " 4           M5A  Downtown Toronto   \n",
       " ..          ...               ...   \n",
       " 175         M5Z      Not assigned   \n",
       " 176         M6Z      Not assigned   \n",
       " 177         M7Z      Not assigned   \n",
       " 178         M8Z         Etobicoke   \n",
       " 179         M9Z      Not assigned   \n",
       " \n",
       "                                          Neighbourhood  \n",
       " 0                                         Not assigned  \n",
       " 1                                         Not assigned  \n",
       " 2                                            Parkwoods  \n",
       " 3                                     Victoria Village  \n",
       " 4                            Regent Park, Harbourfront  \n",
       " ..                                                 ...  \n",
       " 175                                       Not assigned  \n",
       " 176                                       Not assigned  \n",
       " 177                                       Not assigned  \n",
       " 178  Mimico NW, The Queensway West, South of Bloor,...  \n",
       " 179                                       Not assigned  \n",
       " \n",
       " [180 rows x 3 columns],\n",
       "                                                   0   \\\n",
       " 0                                                NaN   \n",
       " 1  NL NS PE NB QC ON MB SK AB BC NU/NT YT A B C E...   \n",
       " 2                                                 NL   \n",
       " 3                                                  A   \n",
       " \n",
       "                                                   1   \\\n",
       " 0                              Canadian postal codes   \n",
       " 1  NL NS PE NB QC ON MB SK AB BC NU/NT YT A B C E...   \n",
       " 2                                                 NS   \n",
       " 3                                                  B   \n",
       " \n",
       "                                                   2    3    4    5    6    7   \\\n",
       " 0                                                NaN  NaN  NaN  NaN  NaN  NaN   \n",
       " 1  NL NS PE NB QC ON MB SK AB BC NU/NT YT A B C E...  NaN  NaN  NaN  NaN  NaN   \n",
       " 2                                                 PE   NB   QC   QC   QC   ON   \n",
       " 3                                                  C    E    G    H    J    K   \n",
       " \n",
       "     8    9    10   11   12   13   14   15     16   17  \n",
       " 0  NaN  NaN  NaN  NaN  NaN  NaN  NaN  NaN    NaN  NaN  \n",
       " 1  NaN  NaN  NaN  NaN  NaN  NaN  NaN  NaN    NaN  NaN  \n",
       " 2   ON   ON   ON   ON   MB   SK   AB   BC  NU/NT   YT  \n",
       " 3    L    M    N    P    R    S    T    V      X    Y  ,\n",
       "    0   1   2   3   4   5   6   7   8   9   10  11  12  13  14  15     16  17\n",
       " 0  NL  NS  PE  NB  QC  QC  QC  ON  ON  ON  ON  ON  MB  SK  AB  BC  NU/NT  YT\n",
       " 1   A   B   C   E   G   H   J   K   L   M   N   P   R   S   T   V      X   Y]"
      ]
     },
     "execution_count": 3,
     "metadata": {},
     "output_type": "execute_result"
    }
   ],
   "source": [
    "wiki_data = pd.read_html(wiki_url.text)\n",
    "wiki_data"
   ]
  },
  {
   "cell_type": "code",
   "execution_count": 4,
   "metadata": {},
   "outputs": [
    {
     "data": {
      "text/html": [
       "<div>\n",
       "<style scoped>\n",
       "    .dataframe tbody tr th:only-of-type {\n",
       "        vertical-align: middle;\n",
       "    }\n",
       "\n",
       "    .dataframe tbody tr th {\n",
       "        vertical-align: top;\n",
       "    }\n",
       "\n",
       "    .dataframe thead th {\n",
       "        text-align: right;\n",
       "    }\n",
       "</style>\n",
       "<table border=\"1\" class=\"dataframe\">\n",
       "  <thead>\n",
       "    <tr style=\"text-align: right;\">\n",
       "      <th></th>\n",
       "      <th>Postal Code</th>\n",
       "      <th>Borough</th>\n",
       "      <th>Neighbourhood</th>\n",
       "    </tr>\n",
       "  </thead>\n",
       "  <tbody>\n",
       "    <tr>\n",
       "      <th>0</th>\n",
       "      <td>M1A</td>\n",
       "      <td>Not assigned</td>\n",
       "      <td>Not assigned</td>\n",
       "    </tr>\n",
       "    <tr>\n",
       "      <th>1</th>\n",
       "      <td>M2A</td>\n",
       "      <td>Not assigned</td>\n",
       "      <td>Not assigned</td>\n",
       "    </tr>\n",
       "    <tr>\n",
       "      <th>2</th>\n",
       "      <td>M3A</td>\n",
       "      <td>North York</td>\n",
       "      <td>Parkwoods</td>\n",
       "    </tr>\n",
       "    <tr>\n",
       "      <th>3</th>\n",
       "      <td>M4A</td>\n",
       "      <td>North York</td>\n",
       "      <td>Victoria Village</td>\n",
       "    </tr>\n",
       "    <tr>\n",
       "      <th>4</th>\n",
       "      <td>M5A</td>\n",
       "      <td>Downtown Toronto</td>\n",
       "      <td>Regent Park, Harbourfront</td>\n",
       "    </tr>\n",
       "    <tr>\n",
       "      <th>...</th>\n",
       "      <td>...</td>\n",
       "      <td>...</td>\n",
       "      <td>...</td>\n",
       "    </tr>\n",
       "    <tr>\n",
       "      <th>175</th>\n",
       "      <td>M5Z</td>\n",
       "      <td>Not assigned</td>\n",
       "      <td>Not assigned</td>\n",
       "    </tr>\n",
       "    <tr>\n",
       "      <th>176</th>\n",
       "      <td>M6Z</td>\n",
       "      <td>Not assigned</td>\n",
       "      <td>Not assigned</td>\n",
       "    </tr>\n",
       "    <tr>\n",
       "      <th>177</th>\n",
       "      <td>M7Z</td>\n",
       "      <td>Not assigned</td>\n",
       "      <td>Not assigned</td>\n",
       "    </tr>\n",
       "    <tr>\n",
       "      <th>178</th>\n",
       "      <td>M8Z</td>\n",
       "      <td>Etobicoke</td>\n",
       "      <td>Mimico NW, The Queensway West, South of Bloor,...</td>\n",
       "    </tr>\n",
       "    <tr>\n",
       "      <th>179</th>\n",
       "      <td>M9Z</td>\n",
       "      <td>Not assigned</td>\n",
       "      <td>Not assigned</td>\n",
       "    </tr>\n",
       "  </tbody>\n",
       "</table>\n",
       "<p>180 rows × 3 columns</p>\n",
       "</div>"
      ],
      "text/plain": [
       "    Postal Code           Borough  \\\n",
       "0           M1A      Not assigned   \n",
       "1           M2A      Not assigned   \n",
       "2           M3A        North York   \n",
       "3           M4A        North York   \n",
       "4           M5A  Downtown Toronto   \n",
       "..          ...               ...   \n",
       "175         M5Z      Not assigned   \n",
       "176         M6Z      Not assigned   \n",
       "177         M7Z      Not assigned   \n",
       "178         M8Z         Etobicoke   \n",
       "179         M9Z      Not assigned   \n",
       "\n",
       "                                         Neighbourhood  \n",
       "0                                         Not assigned  \n",
       "1                                         Not assigned  \n",
       "2                                            Parkwoods  \n",
       "3                                     Victoria Village  \n",
       "4                            Regent Park, Harbourfront  \n",
       "..                                                 ...  \n",
       "175                                       Not assigned  \n",
       "176                                       Not assigned  \n",
       "177                                       Not assigned  \n",
       "178  Mimico NW, The Queensway West, South of Bloor,...  \n",
       "179                                       Not assigned  \n",
       "\n",
       "[180 rows x 3 columns]"
      ]
     },
     "execution_count": 4,
     "metadata": {},
     "output_type": "execute_result"
    }
   ],
   "source": [
    "wiki_data = wiki_data[0]\n",
    "wiki_data"
   ]
  },
  {
   "cell_type": "code",
   "execution_count": 5,
   "metadata": {},
   "outputs": [
    {
     "data": {
      "text/html": [
       "<div>\n",
       "<style scoped>\n",
       "    .dataframe tbody tr th:only-of-type {\n",
       "        vertical-align: middle;\n",
       "    }\n",
       "\n",
       "    .dataframe tbody tr th {\n",
       "        vertical-align: top;\n",
       "    }\n",
       "\n",
       "    .dataframe thead th {\n",
       "        text-align: right;\n",
       "    }\n",
       "</style>\n",
       "<table border=\"1\" class=\"dataframe\">\n",
       "  <thead>\n",
       "    <tr style=\"text-align: right;\">\n",
       "      <th></th>\n",
       "      <th>Postal Code</th>\n",
       "      <th>Borough</th>\n",
       "      <th>Neighbourhood</th>\n",
       "    </tr>\n",
       "  </thead>\n",
       "  <tbody>\n",
       "    <tr>\n",
       "      <th>2</th>\n",
       "      <td>M3A</td>\n",
       "      <td>North York</td>\n",
       "      <td>Parkwoods</td>\n",
       "    </tr>\n",
       "    <tr>\n",
       "      <th>3</th>\n",
       "      <td>M4A</td>\n",
       "      <td>North York</td>\n",
       "      <td>Victoria Village</td>\n",
       "    </tr>\n",
       "    <tr>\n",
       "      <th>4</th>\n",
       "      <td>M5A</td>\n",
       "      <td>Downtown Toronto</td>\n",
       "      <td>Regent Park, Harbourfront</td>\n",
       "    </tr>\n",
       "    <tr>\n",
       "      <th>5</th>\n",
       "      <td>M6A</td>\n",
       "      <td>North York</td>\n",
       "      <td>Lawrence Manor, Lawrence Heights</td>\n",
       "    </tr>\n",
       "    <tr>\n",
       "      <th>6</th>\n",
       "      <td>M7A</td>\n",
       "      <td>Downtown Toronto</td>\n",
       "      <td>Queen's Park, Ontario Provincial Government</td>\n",
       "    </tr>\n",
       "    <tr>\n",
       "      <th>...</th>\n",
       "      <td>...</td>\n",
       "      <td>...</td>\n",
       "      <td>...</td>\n",
       "    </tr>\n",
       "    <tr>\n",
       "      <th>160</th>\n",
       "      <td>M8X</td>\n",
       "      <td>Etobicoke</td>\n",
       "      <td>The Kingsway, Montgomery Road, Old Mill North</td>\n",
       "    </tr>\n",
       "    <tr>\n",
       "      <th>165</th>\n",
       "      <td>M4Y</td>\n",
       "      <td>Downtown Toronto</td>\n",
       "      <td>Church and Wellesley</td>\n",
       "    </tr>\n",
       "    <tr>\n",
       "      <th>168</th>\n",
       "      <td>M7Y</td>\n",
       "      <td>East Toronto</td>\n",
       "      <td>Business reply mail Processing Centre, South C...</td>\n",
       "    </tr>\n",
       "    <tr>\n",
       "      <th>169</th>\n",
       "      <td>M8Y</td>\n",
       "      <td>Etobicoke</td>\n",
       "      <td>Old Mill South, King's Mill Park, Sunnylea, Hu...</td>\n",
       "    </tr>\n",
       "    <tr>\n",
       "      <th>178</th>\n",
       "      <td>M8Z</td>\n",
       "      <td>Etobicoke</td>\n",
       "      <td>Mimico NW, The Queensway West, South of Bloor,...</td>\n",
       "    </tr>\n",
       "  </tbody>\n",
       "</table>\n",
       "<p>103 rows × 3 columns</p>\n",
       "</div>"
      ],
      "text/plain": [
       "    Postal Code           Borough  \\\n",
       "2           M3A        North York   \n",
       "3           M4A        North York   \n",
       "4           M5A  Downtown Toronto   \n",
       "5           M6A        North York   \n",
       "6           M7A  Downtown Toronto   \n",
       "..          ...               ...   \n",
       "160         M8X         Etobicoke   \n",
       "165         M4Y  Downtown Toronto   \n",
       "168         M7Y      East Toronto   \n",
       "169         M8Y         Etobicoke   \n",
       "178         M8Z         Etobicoke   \n",
       "\n",
       "                                         Neighbourhood  \n",
       "2                                            Parkwoods  \n",
       "3                                     Victoria Village  \n",
       "4                            Regent Park, Harbourfront  \n",
       "5                     Lawrence Manor, Lawrence Heights  \n",
       "6          Queen's Park, Ontario Provincial Government  \n",
       "..                                                 ...  \n",
       "160      The Kingsway, Montgomery Road, Old Mill North  \n",
       "165                               Church and Wellesley  \n",
       "168  Business reply mail Processing Centre, South C...  \n",
       "169  Old Mill South, King's Mill Park, Sunnylea, Hu...  \n",
       "178  Mimico NW, The Queensway West, South of Bloor,...  \n",
       "\n",
       "[103 rows x 3 columns]"
      ]
     },
     "execution_count": 5,
     "metadata": {},
     "output_type": "execute_result"
    }
   ],
   "source": [
    "df = wiki_data[wiki_data[\"Borough\"] != \"Not assigned\"]\n",
    "df"
   ]
  },
  {
   "cell_type": "markdown",
   "metadata": {},
   "source": [
    "Grouping the data by postal code"
   ]
  },
  {
   "cell_type": "code",
   "execution_count": 6,
   "metadata": {},
   "outputs": [
    {
     "data": {
      "text/html": [
       "<div>\n",
       "<style scoped>\n",
       "    .dataframe tbody tr th:only-of-type {\n",
       "        vertical-align: middle;\n",
       "    }\n",
       "\n",
       "    .dataframe tbody tr th {\n",
       "        vertical-align: top;\n",
       "    }\n",
       "\n",
       "    .dataframe thead th {\n",
       "        text-align: right;\n",
       "    }\n",
       "</style>\n",
       "<table border=\"1\" class=\"dataframe\">\n",
       "  <thead>\n",
       "    <tr style=\"text-align: right;\">\n",
       "      <th></th>\n",
       "      <th>Postal Code</th>\n",
       "      <th>Borough</th>\n",
       "      <th>Neighbourhood</th>\n",
       "    </tr>\n",
       "  </thead>\n",
       "  <tbody>\n",
       "    <tr>\n",
       "      <th>2</th>\n",
       "      <td>M3A</td>\n",
       "      <td>North York</td>\n",
       "      <td>Parkwoods</td>\n",
       "    </tr>\n",
       "    <tr>\n",
       "      <th>3</th>\n",
       "      <td>M4A</td>\n",
       "      <td>North York</td>\n",
       "      <td>Victoria Village</td>\n",
       "    </tr>\n",
       "    <tr>\n",
       "      <th>4</th>\n",
       "      <td>M5A</td>\n",
       "      <td>Downtown Toronto</td>\n",
       "      <td>Regent Park, Harbourfront</td>\n",
       "    </tr>\n",
       "    <tr>\n",
       "      <th>5</th>\n",
       "      <td>M6A</td>\n",
       "      <td>North York</td>\n",
       "      <td>Lawrence Manor, Lawrence Heights</td>\n",
       "    </tr>\n",
       "    <tr>\n",
       "      <th>6</th>\n",
       "      <td>M7A</td>\n",
       "      <td>Downtown Toronto</td>\n",
       "      <td>Queen's Park, Ontario Provincial Government</td>\n",
       "    </tr>\n",
       "    <tr>\n",
       "      <th>...</th>\n",
       "      <td>...</td>\n",
       "      <td>...</td>\n",
       "      <td>...</td>\n",
       "    </tr>\n",
       "    <tr>\n",
       "      <th>160</th>\n",
       "      <td>M8X</td>\n",
       "      <td>Etobicoke</td>\n",
       "      <td>The Kingsway, Montgomery Road, Old Mill North</td>\n",
       "    </tr>\n",
       "    <tr>\n",
       "      <th>165</th>\n",
       "      <td>M4Y</td>\n",
       "      <td>Downtown Toronto</td>\n",
       "      <td>Church and Wellesley</td>\n",
       "    </tr>\n",
       "    <tr>\n",
       "      <th>168</th>\n",
       "      <td>M7Y</td>\n",
       "      <td>East Toronto</td>\n",
       "      <td>Business reply mail Processing Centre, South C...</td>\n",
       "    </tr>\n",
       "    <tr>\n",
       "      <th>169</th>\n",
       "      <td>M8Y</td>\n",
       "      <td>Etobicoke</td>\n",
       "      <td>Old Mill South, King's Mill Park, Sunnylea, Hu...</td>\n",
       "    </tr>\n",
       "    <tr>\n",
       "      <th>178</th>\n",
       "      <td>M8Z</td>\n",
       "      <td>Etobicoke</td>\n",
       "      <td>Mimico NW, The Queensway West, South of Bloor,...</td>\n",
       "    </tr>\n",
       "  </tbody>\n",
       "</table>\n",
       "<p>103 rows × 3 columns</p>\n",
       "</div>"
      ],
      "text/plain": [
       "    Postal Code           Borough  \\\n",
       "2           M3A        North York   \n",
       "3           M4A        North York   \n",
       "4           M5A  Downtown Toronto   \n",
       "5           M6A        North York   \n",
       "6           M7A  Downtown Toronto   \n",
       "..          ...               ...   \n",
       "160         M8X         Etobicoke   \n",
       "165         M4Y  Downtown Toronto   \n",
       "168         M7Y      East Toronto   \n",
       "169         M8Y         Etobicoke   \n",
       "178         M8Z         Etobicoke   \n",
       "\n",
       "                                         Neighbourhood  \n",
       "2                                            Parkwoods  \n",
       "3                                     Victoria Village  \n",
       "4                            Regent Park, Harbourfront  \n",
       "5                     Lawrence Manor, Lawrence Heights  \n",
       "6          Queen's Park, Ontario Provincial Government  \n",
       "..                                                 ...  \n",
       "160      The Kingsway, Montgomery Road, Old Mill North  \n",
       "165                               Church and Wellesley  \n",
       "168  Business reply mail Processing Centre, South C...  \n",
       "169  Old Mill South, King's Mill Park, Sunnylea, Hu...  \n",
       "178  Mimico NW, The Queensway West, South of Bloor,...  \n",
       "\n",
       "[103 rows x 3 columns]"
      ]
     },
     "execution_count": 6,
     "metadata": {},
     "output_type": "execute_result"
    }
   ],
   "source": [
    "df = df.groupby(['Postal Code']).head()\n",
    "df"
   ]
  },
  {
   "cell_type": "code",
   "execution_count": 7,
   "metadata": {},
   "outputs": [
    {
     "data": {
      "text/plain": [
       "(103, 3)"
      ]
     },
     "execution_count": 7,
     "metadata": {},
     "output_type": "execute_result"
    }
   ],
   "source": [
    "df.shape"
   ]
  },
  {
   "cell_type": "markdown",
   "metadata": {},
   "source": [
    "Answer - We have 103 rows and 3 coloumns"
   ]
  },
  {
   "cell_type": "markdown",
   "metadata": {},
   "source": [
    "<h1>Question2 </h1>"
   ]
  },
  {
   "cell_type": "code",
   "execution_count": 10,
   "metadata": {},
   "outputs": [
    {
     "name": "stdout",
     "output_type": "stream",
     "text": [
      "Collecting geocoder\n",
      "  Downloading geocoder-1.38.1-py2.py3-none-any.whl (98 kB)\n",
      "Requirement already satisfied: six in c:\\programdata\\anaconda3\\lib\\site-packages (from geocoder) (1.14.0)\n",
      "Requirement already satisfied: requests in c:\\programdata\\anaconda3\\lib\\site-packages (from geocoder) (2.22.0)\n",
      "Requirement already satisfied: future in c:\\programdata\\anaconda3\\lib\\site-packages (from geocoder) (0.18.2)\n",
      "Requirement already satisfied: click in c:\\programdata\\anaconda3\\lib\\site-packages (from geocoder) (7.0)\n",
      "Collecting ratelim\n",
      "  Downloading ratelim-0.1.6-py2.py3-none-any.whl (4.0 kB)\n",
      "Requirement already satisfied: idna<2.9,>=2.5 in c:\\programdata\\anaconda3\\lib\\site-packages (from requests->geocoder) (2.8)\n",
      "Requirement already satisfied: chardet<3.1.0,>=3.0.2 in c:\\programdata\\anaconda3\\lib\\site-packages (from requests->geocoder) (3.0.4)\n",
      "Requirement already satisfied: urllib3!=1.25.0,!=1.25.1,<1.26,>=1.21.1 in c:\\programdata\\anaconda3\\lib\\site-packages (from requests->geocoder) (1.25.8)\n",
      "Requirement already satisfied: certifi>=2017.4.17 in c:\\programdata\\anaconda3\\lib\\site-packages (from requests->geocoder) (2019.11.28)\n",
      "Requirement already satisfied: decorator in c:\\programdata\\anaconda3\\lib\\site-packages (from ratelim->geocoder) (4.4.1)\n",
      "Installing collected packages: ratelim, geocoder\n",
      "Successfully installed geocoder-1.38.1 ratelim-0.1.6\n",
      "Note: you may need to restart the kernel to use updated packages.\n"
     ]
    }
   ],
   "source": [
    "pip install geocoder"
   ]
  },
  {
   "cell_type": "code",
   "execution_count": 11,
   "metadata": {},
   "outputs": [],
   "source": [
    "import geocoder"
   ]
  },
  {
   "cell_type": "code",
   "execution_count": 12,
   "metadata": {},
   "outputs": [],
   "source": [
    "url = 'http://cocl.us/Geospatial_data'"
   ]
  },
  {
   "cell_type": "code",
   "execution_count": 13,
   "metadata": {},
   "outputs": [
    {
     "data": {
      "text/html": [
       "<div>\n",
       "<style scoped>\n",
       "    .dataframe tbody tr th:only-of-type {\n",
       "        vertical-align: middle;\n",
       "    }\n",
       "\n",
       "    .dataframe tbody tr th {\n",
       "        vertical-align: top;\n",
       "    }\n",
       "\n",
       "    .dataframe thead th {\n",
       "        text-align: right;\n",
       "    }\n",
       "</style>\n",
       "<table border=\"1\" class=\"dataframe\">\n",
       "  <thead>\n",
       "    <tr style=\"text-align: right;\">\n",
       "      <th></th>\n",
       "      <th>Postal Code</th>\n",
       "      <th>Latitude</th>\n",
       "      <th>Longitude</th>\n",
       "    </tr>\n",
       "  </thead>\n",
       "  <tbody>\n",
       "    <tr>\n",
       "      <th>0</th>\n",
       "      <td>M1B</td>\n",
       "      <td>43.806686</td>\n",
       "      <td>-79.194353</td>\n",
       "    </tr>\n",
       "    <tr>\n",
       "      <th>1</th>\n",
       "      <td>M1C</td>\n",
       "      <td>43.784535</td>\n",
       "      <td>-79.160497</td>\n",
       "    </tr>\n",
       "    <tr>\n",
       "      <th>2</th>\n",
       "      <td>M1E</td>\n",
       "      <td>43.763573</td>\n",
       "      <td>-79.188711</td>\n",
       "    </tr>\n",
       "    <tr>\n",
       "      <th>3</th>\n",
       "      <td>M1G</td>\n",
       "      <td>43.770992</td>\n",
       "      <td>-79.216917</td>\n",
       "    </tr>\n",
       "    <tr>\n",
       "      <th>4</th>\n",
       "      <td>M1H</td>\n",
       "      <td>43.773136</td>\n",
       "      <td>-79.239476</td>\n",
       "    </tr>\n",
       "  </tbody>\n",
       "</table>\n",
       "</div>"
      ],
      "text/plain": [
       "  Postal Code   Latitude  Longitude\n",
       "0         M1B  43.806686 -79.194353\n",
       "1         M1C  43.784535 -79.160497\n",
       "2         M1E  43.763573 -79.188711\n",
       "3         M1G  43.770992 -79.216917\n",
       "4         M1H  43.773136 -79.239476"
      ]
     },
     "execution_count": 13,
     "metadata": {},
     "output_type": "execute_result"
    }
   ],
   "source": [
    "df_geo = pd.read_csv(url)\n",
    "df_geo.head()"
   ]
  },
  {
   "cell_type": "code",
   "execution_count": 14,
   "metadata": {},
   "outputs": [
    {
     "data": {
      "text/plain": [
       "Postal Code     object\n",
       "Latitude       float64\n",
       "Longitude      float64\n",
       "dtype: object"
      ]
     },
     "execution_count": 14,
     "metadata": {},
     "output_type": "execute_result"
    }
   ],
   "source": [
    "df_geo.dtypes"
   ]
  },
  {
   "cell_type": "code",
   "execution_count": 15,
   "metadata": {},
   "outputs": [
    {
     "data": {
      "text/plain": [
       "Postal Code      object\n",
       "Borough          object\n",
       "Neighbourhood    object\n",
       "dtype: object"
      ]
     },
     "execution_count": 15,
     "metadata": {},
     "output_type": "execute_result"
    }
   ],
   "source": [
    "df.dtypes"
   ]
  },
  {
   "cell_type": "code",
   "execution_count": 16,
   "metadata": {},
   "outputs": [
    {
     "data": {
      "text/plain": [
       "(103, 3)"
      ]
     },
     "execution_count": 16,
     "metadata": {},
     "output_type": "execute_result"
    }
   ],
   "source": [
    "df.shape"
   ]
  },
  {
   "cell_type": "code",
   "execution_count": 17,
   "metadata": {},
   "outputs": [
    {
     "data": {
      "text/plain": [
       "(103, 3)"
      ]
     },
     "execution_count": 17,
     "metadata": {},
     "output_type": "execute_result"
    }
   ],
   "source": [
    "df_geo.shape"
   ]
  },
  {
   "cell_type": "code",
   "execution_count": 19,
   "metadata": {},
   "outputs": [
    {
     "data": {
      "text/html": [
       "<div>\n",
       "<style scoped>\n",
       "    .dataframe tbody tr th:only-of-type {\n",
       "        vertical-align: middle;\n",
       "    }\n",
       "\n",
       "    .dataframe tbody tr th {\n",
       "        vertical-align: top;\n",
       "    }\n",
       "\n",
       "    .dataframe thead th {\n",
       "        text-align: right;\n",
       "    }\n",
       "</style>\n",
       "<table border=\"1\" class=\"dataframe\">\n",
       "  <thead>\n",
       "    <tr style=\"text-align: right;\">\n",
       "      <th></th>\n",
       "      <th>Postal Code</th>\n",
       "      <th>Borough</th>\n",
       "      <th>Neighbourhood</th>\n",
       "      <th>Latitude</th>\n",
       "      <th>Longitude</th>\n",
       "    </tr>\n",
       "  </thead>\n",
       "  <tbody>\n",
       "    <tr>\n",
       "      <th>2</th>\n",
       "      <td>M3A</td>\n",
       "      <td>North York</td>\n",
       "      <td>Parkwoods</td>\n",
       "      <td>43.753259</td>\n",
       "      <td>-79.329656</td>\n",
       "    </tr>\n",
       "    <tr>\n",
       "      <th>3</th>\n",
       "      <td>M4A</td>\n",
       "      <td>North York</td>\n",
       "      <td>Victoria Village</td>\n",
       "      <td>43.725882</td>\n",
       "      <td>-79.315572</td>\n",
       "    </tr>\n",
       "    <tr>\n",
       "      <th>4</th>\n",
       "      <td>M5A</td>\n",
       "      <td>Downtown Toronto</td>\n",
       "      <td>Regent Park, Harbourfront</td>\n",
       "      <td>43.654260</td>\n",
       "      <td>-79.360636</td>\n",
       "    </tr>\n",
       "    <tr>\n",
       "      <th>5</th>\n",
       "      <td>M6A</td>\n",
       "      <td>North York</td>\n",
       "      <td>Lawrence Manor, Lawrence Heights</td>\n",
       "      <td>43.718518</td>\n",
       "      <td>-79.464763</td>\n",
       "    </tr>\n",
       "    <tr>\n",
       "      <th>6</th>\n",
       "      <td>M7A</td>\n",
       "      <td>Downtown Toronto</td>\n",
       "      <td>Queen's Park, Ontario Provincial Government</td>\n",
       "      <td>43.662301</td>\n",
       "      <td>-79.389494</td>\n",
       "    </tr>\n",
       "    <tr>\n",
       "      <th>...</th>\n",
       "      <td>...</td>\n",
       "      <td>...</td>\n",
       "      <td>...</td>\n",
       "      <td>...</td>\n",
       "      <td>...</td>\n",
       "    </tr>\n",
       "    <tr>\n",
       "      <th>160</th>\n",
       "      <td>M8X</td>\n",
       "      <td>Etobicoke</td>\n",
       "      <td>The Kingsway, Montgomery Road, Old Mill North</td>\n",
       "      <td>43.653654</td>\n",
       "      <td>-79.506944</td>\n",
       "    </tr>\n",
       "    <tr>\n",
       "      <th>165</th>\n",
       "      <td>M4Y</td>\n",
       "      <td>Downtown Toronto</td>\n",
       "      <td>Church and Wellesley</td>\n",
       "      <td>43.665860</td>\n",
       "      <td>-79.383160</td>\n",
       "    </tr>\n",
       "    <tr>\n",
       "      <th>168</th>\n",
       "      <td>M7Y</td>\n",
       "      <td>East Toronto</td>\n",
       "      <td>Business reply mail Processing Centre, South C...</td>\n",
       "      <td>43.662744</td>\n",
       "      <td>-79.321558</td>\n",
       "    </tr>\n",
       "    <tr>\n",
       "      <th>169</th>\n",
       "      <td>M8Y</td>\n",
       "      <td>Etobicoke</td>\n",
       "      <td>Old Mill South, King's Mill Park, Sunnylea, Hu...</td>\n",
       "      <td>43.636258</td>\n",
       "      <td>-79.498509</td>\n",
       "    </tr>\n",
       "    <tr>\n",
       "      <th>178</th>\n",
       "      <td>M8Z</td>\n",
       "      <td>Etobicoke</td>\n",
       "      <td>Mimico NW, The Queensway West, South of Bloor,...</td>\n",
       "      <td>43.628841</td>\n",
       "      <td>-79.520999</td>\n",
       "    </tr>\n",
       "  </tbody>\n",
       "</table>\n",
       "<p>103 rows × 5 columns</p>\n",
       "</div>"
      ],
      "text/plain": [
       "    Postal Code           Borough  \\\n",
       "2           M3A        North York   \n",
       "3           M4A        North York   \n",
       "4           M5A  Downtown Toronto   \n",
       "5           M6A        North York   \n",
       "6           M7A  Downtown Toronto   \n",
       "..          ...               ...   \n",
       "160         M8X         Etobicoke   \n",
       "165         M4Y  Downtown Toronto   \n",
       "168         M7Y      East Toronto   \n",
       "169         M8Y         Etobicoke   \n",
       "178         M8Z         Etobicoke   \n",
       "\n",
       "                                         Neighbourhood   Latitude  Longitude  \n",
       "2                                            Parkwoods  43.753259 -79.329656  \n",
       "3                                     Victoria Village  43.725882 -79.315572  \n",
       "4                            Regent Park, Harbourfront  43.654260 -79.360636  \n",
       "5                     Lawrence Manor, Lawrence Heights  43.718518 -79.464763  \n",
       "6          Queen's Park, Ontario Provincial Government  43.662301 -79.389494  \n",
       "..                                                 ...        ...        ...  \n",
       "160      The Kingsway, Montgomery Road, Old Mill North  43.653654 -79.506944  \n",
       "165                               Church and Wellesley  43.665860 -79.383160  \n",
       "168  Business reply mail Processing Centre, South C...  43.662744 -79.321558  \n",
       "169  Old Mill South, King's Mill Park, Sunnylea, Hu...  43.636258 -79.498509  \n",
       "178  Mimico NW, The Queensway West, South of Bloor,...  43.628841 -79.520999  \n",
       "\n",
       "[103 rows x 5 columns]"
      ]
     },
     "execution_count": 19,
     "metadata": {},
     "output_type": "execute_result"
    }
   ],
   "source": [
    "combined_data = df.join(df_geo.set_index('Postal Code'), on='Postal Code', how='inner')\n",
    "combined_data"
   ]
  },
  {
   "cell_type": "code",
   "execution_count": 20,
   "metadata": {},
   "outputs": [
    {
     "data": {
      "text/plain": [
       "(103, 3)"
      ]
     },
     "execution_count": 20,
     "metadata": {},
     "output_type": "execute_result"
    }
   ],
   "source": [
    "df.shape"
   ]
  },
  {
   "cell_type": "markdown",
   "metadata": {},
   "source": [
    "<h1>Question 3 </h1>"
   ]
  },
  {
   "cell_type": "code",
   "execution_count": 23,
   "metadata": {},
   "outputs": [],
   "source": [
    "import geocoder\n",
    "from geopy.geocoders import Nominatim "
   ]
  },
  {
   "cell_type": "code",
   "execution_count": 25,
   "metadata": {},
   "outputs": [
    {
     "name": "stdout",
     "output_type": "stream",
     "text": [
      "The coordinates of Toronto are 43.6534817, -79.3839347.\n"
     ]
    }
   ],
   "source": [
    "address = 'Toronto, Ontario'\n",
    "\n",
    "geolocator = Nominatim(user_agent=\"toronto_explorer\")\n",
    "location = geolocator.geocode(address)\n",
    "latitude = location.latitude\n",
    "longitude = location.longitude\n",
    "print('The coordinates of Toronto are {}, {}.'.format(latitude, longitude))"
   ]
  },
  {
   "cell_type": "code",
   "execution_count": 27,
   "metadata": {},
   "outputs": [],
   "source": [
    "import folium"
   ]
  },
  {
   "cell_type": "code",
   "execution_count": 28,
   "metadata": {},
   "outputs": [
    {
     "data": {
      "text/html": [
       "<div style=\"width:100%;\"><div style=\"position:relative;width:100%;height:0;padding-bottom:60%;\"><span style=\"color:#565656\">Make this Notebook Trusted to load map: File -> Trust Notebook</span><iframe src=\"about:blank\" style=\"position:absolute;width:100%;height:100%;left:0;top:0;border:none !important;\" data-html=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 onload=\"this.contentDocument.open();this.contentDocument.write(atob(this.getAttribute('data-html')));this.contentDocument.close();\" allowfullscreen webkitallowfullscreen mozallowfullscreen></iframe></div></div>"
      ],
      "text/plain": [
       "<folium.folium.Map at 0x1a2f9f4b988>"
      ]
     },
     "execution_count": 28,
     "metadata": {},
     "output_type": "execute_result"
    }
   ],
   "source": [
    "# Creating the map of Toronto\n",
    "map_Toronto = folium.Map(location=[latitude, longitude], zoom_start=11)\n",
    "\n",
    "# adding markers to map\n",
    "for latitude, longitude, borough, neighbourhood in zip(combined_data['Latitude'], combined_data['Longitude'], combined_data['Borough'], combined_data['Neighbourhood']):\n",
    "    label = '{}, {}'.format(neighbourhood, borough)\n",
    "    label = folium.Popup(label, parse_html=True)\n",
    "    folium.CircleMarker(\n",
    "        [latitude, longitude],\n",
    "        radius=5,\n",
    "        popup=label,\n",
    "        color='red',\n",
    "        fill=True\n",
    "        ).add_to(map_Toronto)  \n",
    "    \n",
    "map_Toronto"
   ]
  },
  {
   "cell_type": "code",
   "execution_count": 29,
   "metadata": {},
   "outputs": [
    {
     "name": "stdout",
     "output_type": "stream",
     "text": [
      "Your credentails:\n",
      "CLIENT_ID: IEO3BCOMPMVDENSQXFGQOO21FUGTKIV1ZX01F4LNKLV0PK25\n",
      "CLIENT_SECRET:XNJPG4KKQYJR2ZJM1PFS1FBAOM3APZ32TT2KDDQ3QNBPWCV0\n"
     ]
    }
   ],
   "source": [
    "CLIENT_ID = 'IEO3BCOMPMVDENSQXFGQOO21FUGTKIV1ZX01F4LNKLV0PK25' \n",
    "CLIENT_SECRET = 'XNJPG4KKQYJR2ZJM1PFS1FBAOM3APZ32TT2KDDQ3QNBPWCV0' \n",
    "VERSION = '20180604' \n",
    "\n",
    "print('Your credentails:')\n",
    "print('CLIENT_ID: ' + CLIENT_ID)\n",
    "print('CLIENT_SECRET:' + CLIENT_SECRET)"
   ]
  },
  {
   "cell_type": "code",
   "execution_count": 31,
   "metadata": {},
   "outputs": [],
   "source": [
    "\n",
    "def getNearbyVenues(names, latitudes, longitudes, radius=500):\n",
    "    \n",
    "    venues_list=[]\n",
    "    for name, lat, lng in zip(names, latitudes, longitudes):\n",
    "        print(name)\n",
    "            \n",
    "        # create the API request URL\n",
    "        url = 'https://api.foursquare.com/v2/venues/explore?&client_id={}&client_secret={}&v={}&ll={},{}&radius={}'.format(\n",
    "            CLIENT_ID, \n",
    "            CLIENT_SECRET, \n",
    "            VERSION, \n",
    "            lat, \n",
    "            lng, \n",
    "            radius\n",
    "            )\n",
    "            \n",
    "        # make the GET request\n",
    "        results = requests.get(url).json()[\"response\"]['groups'][0]['items']\n",
    "        \n",
    "        # return only relevant information for each nearby venue\n",
    "        venues_list.append([(\n",
    "            name, \n",
    "            lat, \n",
    "            lng, \n",
    "            v['venue']['name'], \n",
    "            v['venue']['categories'][0]['name']) for v in results])\n",
    "\n",
    "    nearby_venues = pd.DataFrame([item for venue_list in venues_list for item in venue_list])\n",
    "    nearby_venues.columns = ['Neighbourhood', \n",
    "                  'Neighbourhood Latitude', \n",
    "                  'Neighbourhood Longitude', \n",
    "                  'Venue', \n",
    "                  'Venue Category']\n",
    "    \n",
    "    return(nearby_venues)"
   ]
  },
  {
   "cell_type": "code",
   "execution_count": 32,
   "metadata": {},
   "outputs": [
    {
     "name": "stdout",
     "output_type": "stream",
     "text": [
      "Parkwoods\n",
      "Victoria Village\n",
      "Regent Park, Harbourfront\n",
      "Lawrence Manor, Lawrence Heights\n",
      "Queen's Park, Ontario Provincial Government\n",
      "Islington Avenue, Humber Valley Village\n",
      "Malvern, Rouge\n",
      "Don Mills\n",
      "Parkview Hill, Woodbine Gardens\n",
      "Garden District, Ryerson\n",
      "Glencairn\n",
      "West Deane Park, Princess Gardens, Martin Grove, Islington, Cloverdale\n",
      "Rouge Hill, Port Union, Highland Creek\n",
      "Don Mills\n",
      "Woodbine Heights\n",
      "St. James Town\n",
      "Humewood-Cedarvale\n",
      "Eringate, Bloordale Gardens, Old Burnhamthorpe, Markland Wood\n",
      "Guildwood, Morningside, West Hill\n",
      "The Beaches\n",
      "Berczy Park\n",
      "Caledonia-Fairbanks\n",
      "Woburn\n",
      "Leaside\n",
      "Central Bay Street\n",
      "Christie\n",
      "Cedarbrae\n",
      "Hillcrest Village\n",
      "Bathurst Manor, Wilson Heights, Downsview North\n",
      "Thorncliffe Park\n",
      "Richmond, Adelaide, King\n",
      "Dufferin, Dovercourt Village\n",
      "Scarborough Village\n",
      "Fairview, Henry Farm, Oriole\n",
      "Northwood Park, York University\n",
      "East Toronto, Broadview North (Old East York)\n",
      "Harbourfront East, Union Station, Toronto Islands\n",
      "Little Portugal, Trinity\n",
      "Kennedy Park, Ionview, East Birchmount Park\n",
      "Bayview Village\n",
      "Downsview\n",
      "The Danforth West, Riverdale\n",
      "Toronto Dominion Centre, Design Exchange\n",
      "Brockton, Parkdale Village, Exhibition Place\n",
      "Golden Mile, Clairlea, Oakridge\n",
      "York Mills, Silver Hills\n",
      "Downsview\n",
      "India Bazaar, The Beaches West\n",
      "Commerce Court, Victoria Hotel\n",
      "North Park, Maple Leaf Park, Upwood Park\n",
      "Humber Summit\n",
      "Cliffside, Cliffcrest, Scarborough Village West\n",
      "Willowdale, Newtonbrook\n",
      "Downsview\n",
      "Studio District\n",
      "Bedford Park, Lawrence Manor East\n",
      "Del Ray, Mount Dennis, Keelsdale and Silverthorn\n",
      "Humberlea, Emery\n",
      "Birch Cliff, Cliffside West\n",
      "Willowdale, Willowdale East\n",
      "Downsview\n",
      "Lawrence Park\n",
      "Roselawn\n",
      "Runnymede, The Junction North\n",
      "Weston\n",
      "Dorset Park, Wexford Heights, Scarborough Town Centre\n",
      "York Mills West\n",
      "Davisville North\n",
      "Forest Hill North & West, Forest Hill Road Park\n",
      "High Park, The Junction South\n",
      "Westmount\n",
      "Wexford, Maryvale\n",
      "Willowdale, Willowdale West\n",
      "North Toronto West, Lawrence Park\n",
      "The Annex, North Midtown, Yorkville\n",
      "Parkdale, Roncesvalles\n",
      "Canada Post Gateway Processing Centre\n",
      "Kingsview Village, St. Phillips, Martin Grove Gardens, Richview Gardens\n",
      "Agincourt\n",
      "Davisville\n",
      "University of Toronto, Harbord\n",
      "Runnymede, Swansea\n",
      "Clarks Corners, Tam O'Shanter, Sullivan\n",
      "Moore Park, Summerhill East\n",
      "Kensington Market, Chinatown, Grange Park\n",
      "Milliken, Agincourt North, Steeles East, L'Amoreaux East\n",
      "Summerhill West, Rathnelly, South Hill, Forest Hill SE, Deer Park\n",
      "CN Tower, King and Spadina, Railway Lands, Harbourfront West, Bathurst Quay, South Niagara, Island airport\n",
      "New Toronto, Mimico South, Humber Bay Shores\n",
      "South Steeles, Silverstone, Humbergate, Jamestown, Mount Olive, Beaumond Heights, Thistletown, Albion Gardens\n",
      "Steeles West, L'Amoreaux West\n",
      "Rosedale\n",
      "Stn A PO Boxes\n",
      "Alderwood, Long Branch\n",
      "Northwest, West Humber - Clairville\n",
      "Upper Rouge\n",
      "St. James Town, Cabbagetown\n",
      "First Canadian Place, Underground city\n",
      "The Kingsway, Montgomery Road, Old Mill North\n",
      "Church and Wellesley\n",
      "Business reply mail Processing Centre, South Central Letter Processing Plant Toronto\n",
      "Old Mill South, King's Mill Park, Sunnylea, Humber Bay, Mimico NE, The Queensway East, Royal York South East, Kingsway Park South East\n",
      "Mimico NW, The Queensway West, South of Bloor, Kingsway Park South West, Royal York South West\n"
     ]
    }
   ],
   "source": [
    "venues_in_toronto = getNearbyVenues(combined_data['Neighbourhood'], combined_data['Latitude'], combined_data['Longitude'])\n"
   ]
  },
  {
   "cell_type": "code",
   "execution_count": 33,
   "metadata": {},
   "outputs": [
    {
     "ename": "NameError",
     "evalue": "name 'toronto_venues' is not defined",
     "output_type": "error",
     "traceback": [
      "\u001b[1;31m---------------------------------------------------------------------------\u001b[0m",
      "\u001b[1;31mNameError\u001b[0m                                 Traceback (most recent call last)",
      "\u001b[1;32m<ipython-input-33-bb5995a629c6>\u001b[0m in \u001b[0;36m<module>\u001b[1;34m\u001b[0m\n\u001b[1;32m----> 1\u001b[1;33m \u001b[0mprint\u001b[0m\u001b[1;33m(\u001b[0m\u001b[0mtoronto_venues\u001b[0m\u001b[1;33m.\u001b[0m\u001b[0mshape\u001b[0m\u001b[1;33m)\u001b[0m\u001b[1;33m\u001b[0m\u001b[1;33m\u001b[0m\u001b[0m\n\u001b[0m\u001b[0;32m      2\u001b[0m \u001b[0mtoronto_venues\u001b[0m\u001b[1;33m.\u001b[0m\u001b[0mhead\u001b[0m\u001b[1;33m(\u001b[0m\u001b[1;33m)\u001b[0m\u001b[1;33m\u001b[0m\u001b[1;33m\u001b[0m\u001b[0m\n",
      "\u001b[1;31mNameError\u001b[0m: name 'toronto_venues' is not defined"
     ]
    }
   ],
   "source": [
    "print(toronto_venues.shape)\n",
    "toronto_venues.head()"
   ]
  },
  {
   "cell_type": "code",
   "execution_count": null,
   "metadata": {},
   "outputs": [],
   "source": []
  }
 ],
 "metadata": {
  "kernelspec": {
   "display_name": "Python 3",
   "language": "python",
   "name": "python3"
  },
  "language_info": {
   "codemirror_mode": {
    "name": "ipython",
    "version": 3
   },
   "file_extension": ".py",
   "mimetype": "text/x-python",
   "name": "python",
   "nbconvert_exporter": "python",
   "pygments_lexer": "ipython3",
   "version": "3.7.6"
  }
 },
 "nbformat": 4,
 "nbformat_minor": 4
}
